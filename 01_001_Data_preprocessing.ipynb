{
 "cells": [
  {
   "cell_type": "code",
   "execution_count": 3,
   "metadata": {
    "collapsed": true
   },
   "outputs": [],
   "source": [
    "import pandas as pd\n",
    "from sklearn.preprocessing import LabelEncoder"
   ]
  },
  {
   "cell_type": "code",
   "execution_count": 4,
   "outputs": [],
   "source": [
    "df = pd.read_excel('./Data/Raw_Data/01_카페.xlsx')\n",
    "df_consumer = df[['SPEAKER','SENTENCE','MAIN','QA']]\n",
    "df_consumer_len=len(df_consumer)\n",
    "df_consumer =df_consumer.fillna('기타문의')"
   ],
   "metadata": {
    "collapsed": false,
    "pycharm": {
     "name": "#%%\n"
    }
   }
  },
  {
   "cell_type": "code",
   "execution_count": 5,
   "outputs": [
    {
     "name": "stdout",
     "output_type": "stream",
     "text": [
      "     SPEAKER              SENTENCE   MAIN QA\n",
      "0         고객          아이스아메리카노 하나요   일반주문  Q\n",
      "1         점원          테이크아웃하실 건가요?   일반주문  Q\n",
      "2         고객          네 텀블러에 넣어주세요  텀블러사용  Q\n",
      "3         점원     텀블러 할인 300원 해드릴게요  텀블러사용  A\n",
      "4         고객          그란데 사이즈로 주세요   일반주문  Q\n",
      "...      ...                   ...    ... ..\n",
      "7854      고객  아이스 아메리카노는 가격이 다른가요?   가격문의  Q\n",
      "7855      고객       텀블러 할인하면 얼마인가요?   가격문의  Q\n",
      "7856      고객          총 가격이 얼마입니까?   가격문의  Q\n",
      "7857      고객     다 합쳐서 가격이 얼마인 거죠?   가격문의  Q\n",
      "7858      고객      에스프레소 가격은 얼마입니까?   가격문의  Q\n",
      "\n",
      "[7859 rows x 4 columns]\n"
     ]
    }
   ],
   "source": [
    "print(df_consumer)"
   ],
   "metadata": {
    "collapsed": false,
    "pycharm": {
     "name": "#%%\n"
    }
   }
  },
  {
   "cell_type": "code",
   "execution_count": 6,
   "outputs": [
    {
     "data": {
      "text/plain": "                        SENTENCE   MAIN\n0                   아이스아메리카노 하나요   일반주문\n2                   네 텀블러에 넣어주세요  텀블러사용\n4                   그란데 사이즈로 주세요   일반주문\n10                 저 카푸치노로 주문할게요   일반주문\n16    그럼 2000원 추가해서 브레드도 같이 시킬게요   결제요청\n...                          ...    ...\n7854        아이스 아메리카노는 가격이 다른가요?   가격문의\n7855             텀블러 할인하면 얼마인가요?   가격문의\n7856                총 가격이 얼마입니까?   가격문의\n7857           다 합쳐서 가격이 얼마인 거죠?   가격문의\n7858            에스프레소 가격은 얼마입니까?   가격문의\n\n[3738 rows x 2 columns]",
      "text/html": "<div>\n<style scoped>\n    .dataframe tbody tr th:only-of-type {\n        vertical-align: middle;\n    }\n\n    .dataframe tbody tr th {\n        vertical-align: top;\n    }\n\n    .dataframe thead th {\n        text-align: right;\n    }\n</style>\n<table border=\"1\" class=\"dataframe\">\n  <thead>\n    <tr style=\"text-align: right;\">\n      <th></th>\n      <th>SENTENCE</th>\n      <th>MAIN</th>\n    </tr>\n  </thead>\n  <tbody>\n    <tr>\n      <th>0</th>\n      <td>아이스아메리카노 하나요</td>\n      <td>일반주문</td>\n    </tr>\n    <tr>\n      <th>2</th>\n      <td>네 텀블러에 넣어주세요</td>\n      <td>텀블러사용</td>\n    </tr>\n    <tr>\n      <th>4</th>\n      <td>그란데 사이즈로 주세요</td>\n      <td>일반주문</td>\n    </tr>\n    <tr>\n      <th>10</th>\n      <td>저 카푸치노로 주문할게요</td>\n      <td>일반주문</td>\n    </tr>\n    <tr>\n      <th>16</th>\n      <td>그럼 2000원 추가해서 브레드도 같이 시킬게요</td>\n      <td>결제요청</td>\n    </tr>\n    <tr>\n      <th>...</th>\n      <td>...</td>\n      <td>...</td>\n    </tr>\n    <tr>\n      <th>7854</th>\n      <td>아이스 아메리카노는 가격이 다른가요?</td>\n      <td>가격문의</td>\n    </tr>\n    <tr>\n      <th>7855</th>\n      <td>텀블러 할인하면 얼마인가요?</td>\n      <td>가격문의</td>\n    </tr>\n    <tr>\n      <th>7856</th>\n      <td>총 가격이 얼마입니까?</td>\n      <td>가격문의</td>\n    </tr>\n    <tr>\n      <th>7857</th>\n      <td>다 합쳐서 가격이 얼마인 거죠?</td>\n      <td>가격문의</td>\n    </tr>\n    <tr>\n      <th>7858</th>\n      <td>에스프레소 가격은 얼마입니까?</td>\n      <td>가격문의</td>\n    </tr>\n  </tbody>\n</table>\n<p>3738 rows × 2 columns</p>\n</div>"
     },
     "execution_count": 6,
     "metadata": {},
     "output_type": "execute_result"
    }
   ],
   "source": [
    "df_consumer = (df.SPEAKER =='고객') & (df.QA =='Q')\n",
    "df =df[df_consumer]\n",
    "df_bert = df[['SENTENCE','MAIN']]\n",
    "df_bert"
   ],
   "metadata": {
    "collapsed": false,
    "pycharm": {
     "name": "#%%\n"
    }
   }
  },
  {
   "cell_type": "code",
   "execution_count": 8,
   "outputs": [
    {
     "name": "stderr",
     "output_type": "stream",
     "text": [
      "C:\\Anaconda\\envs\\music_category_classification\\lib\\site-packages\\ipykernel_launcher.py:3: SettingWithCopyWarning: \n",
      "A value is trying to be set on a copy of a slice from a DataFrame.\n",
      "Try using .loc[row_indexer,col_indexer] = value instead\n",
      "\n",
      "See the caveats in the documentation: https://pandas.pydata.org/pandas-docs/stable/user_guide/indexing.html#returning-a-view-versus-a-copy\n",
      "  This is separate from the ipykernel package so we can avoid doing imports until\n"
     ]
    },
    {
     "data": {
      "text/plain": "                        SENTENCE   MAIN    N\n0                   아이스아메리카노 하나요   일반주문   81\n2                   네 텀블러에 넣어주세요  텀블러사용  103\n4                   그란데 사이즈로 주세요   일반주문   81\n10                 저 카푸치노로 주문할게요   일반주문   81\n16    그럼 2000원 추가해서 브레드도 같이 시킬게요   결제요청    4\n...                          ...    ...  ...\n7854        아이스 아메리카노는 가격이 다른가요?   가격문의    2\n7855             텀블러 할인하면 얼마인가요?   가격문의    2\n7856                총 가격이 얼마입니까?   가격문의    2\n7857           다 합쳐서 가격이 얼마인 거죠?   가격문의    2\n7858            에스프레소 가격은 얼마입니까?   가격문의    2\n\n[3738 rows x 3 columns]",
      "text/html": "<div>\n<style scoped>\n    .dataframe tbody tr th:only-of-type {\n        vertical-align: middle;\n    }\n\n    .dataframe tbody tr th {\n        vertical-align: top;\n    }\n\n    .dataframe thead th {\n        text-align: right;\n    }\n</style>\n<table border=\"1\" class=\"dataframe\">\n  <thead>\n    <tr style=\"text-align: right;\">\n      <th></th>\n      <th>SENTENCE</th>\n      <th>MAIN</th>\n      <th>N</th>\n    </tr>\n  </thead>\n  <tbody>\n    <tr>\n      <th>0</th>\n      <td>아이스아메리카노 하나요</td>\n      <td>일반주문</td>\n      <td>81</td>\n    </tr>\n    <tr>\n      <th>2</th>\n      <td>네 텀블러에 넣어주세요</td>\n      <td>텀블러사용</td>\n      <td>103</td>\n    </tr>\n    <tr>\n      <th>4</th>\n      <td>그란데 사이즈로 주세요</td>\n      <td>일반주문</td>\n      <td>81</td>\n    </tr>\n    <tr>\n      <th>10</th>\n      <td>저 카푸치노로 주문할게요</td>\n      <td>일반주문</td>\n      <td>81</td>\n    </tr>\n    <tr>\n      <th>16</th>\n      <td>그럼 2000원 추가해서 브레드도 같이 시킬게요</td>\n      <td>결제요청</td>\n      <td>4</td>\n    </tr>\n    <tr>\n      <th>...</th>\n      <td>...</td>\n      <td>...</td>\n      <td>...</td>\n    </tr>\n    <tr>\n      <th>7854</th>\n      <td>아이스 아메리카노는 가격이 다른가요?</td>\n      <td>가격문의</td>\n      <td>2</td>\n    </tr>\n    <tr>\n      <th>7855</th>\n      <td>텀블러 할인하면 얼마인가요?</td>\n      <td>가격문의</td>\n      <td>2</td>\n    </tr>\n    <tr>\n      <th>7856</th>\n      <td>총 가격이 얼마입니까?</td>\n      <td>가격문의</td>\n      <td>2</td>\n    </tr>\n    <tr>\n      <th>7857</th>\n      <td>다 합쳐서 가격이 얼마인 거죠?</td>\n      <td>가격문의</td>\n      <td>2</td>\n    </tr>\n    <tr>\n      <th>7858</th>\n      <td>에스프레소 가격은 얼마입니까?</td>\n      <td>가격문의</td>\n      <td>2</td>\n    </tr>\n  </tbody>\n</table>\n<p>3738 rows × 3 columns</p>\n</div>"
     },
     "execution_count": 8,
     "metadata": {},
     "output_type": "execute_result"
    }
   ],
   "source": [
    "le = LabelEncoder()\n",
    "result = le.fit_transform(df_bert['MAIN'])\n",
    "df_bert['N'] = result\n",
    "df_bert"
   ],
   "metadata": {
    "collapsed": false,
    "pycharm": {
     "name": "#%%\n"
    }
   }
  },
  {
   "cell_type": "code",
   "execution_count": 11,
   "outputs": [],
   "source": [
    "df_bert.to_csv('./Data/Preprocessing/01_001_bert.csv',index=False,encoding='utf-8-sig')"
   ],
   "metadata": {
    "collapsed": false,
    "pycharm": {
     "name": "#%%\n"
    }
   }
  },
  {
   "cell_type": "code",
   "execution_count": null,
   "outputs": [],
   "source": [],
   "metadata": {
    "collapsed": false,
    "pycharm": {
     "name": "#%%\n"
    }
   }
  }
 ],
 "metadata": {
  "kernelspec": {
   "display_name": "Python 3",
   "language": "python",
   "name": "python3"
  },
  "language_info": {
   "codemirror_mode": {
    "name": "ipython",
    "version": 2
   },
   "file_extension": ".py",
   "mimetype": "text/x-python",
   "name": "python",
   "nbconvert_exporter": "python",
   "pygments_lexer": "ipython2",
   "version": "2.7.6"
  }
 },
 "nbformat": 4,
 "nbformat_minor": 0
}